{
 "cells": [
  {
   "cell_type": "markdown",
   "metadata": {},
   "source": [
    "## Observations and Insights "
   ]
  },
  {
   "cell_type": "markdown",
   "metadata": {},
   "source": [
    "Pymaceuticals specializes in anti-cancer pharmaceuticals. The data below was analysed for potential treatments for squamous cell carcinoma (SCC), a commonly occurring form of skin cancer.\n",
    "\n",
    "In the study conducted, 249 mice identified with SCC tumor growth were treated using a variety of drug regimens. The measurement and obseravtion of tumor growth was conducted over a period of 45 days. The following observations were made from the data collected:\n",
    "\n",
    "Of the 249 sample mice, one mouse had duplicate data and was therefore removed from the data set. The gender ditribution of the 248 participating mice was 51% male and 49% female.\n",
    "\n",
    "A total of 10 different treatment regimes were analysed in the study. The four most promising treatments were Capomulin, Ceftamin, Infubinol and Ramicane.\n",
    "\n",
    "Capomulin and Ramicane showed the highest reduction in tumor volume over the 45 day periode. This may indicate that these two drugs are the most effective in reducing tumor size in mice.\n",
    "\n",
    "During assessment of Final Tumor Volume in comparisson to Drug regime an outlier was identified for Infubinol.\n",
    "\n",
    "The correclation coefficient between mouse weight and tumor volume was 0.84. This indicates a strong positive correclation between an increase in mouse weight resulting in an increase in tumor volume."
   ]
  },
  {
   "cell_type": "code",
   "execution_count": 60,
   "metadata": {},
   "outputs": [
    {
     "data": {
      "text/html": [
       "<div>\n",
       "<style scoped>\n",
       "    .dataframe tbody tr th:only-of-type {\n",
       "        vertical-align: middle;\n",
       "    }\n",
       "\n",
       "    .dataframe tbody tr th {\n",
       "        vertical-align: top;\n",
       "    }\n",
       "\n",
       "    .dataframe thead th {\n",
       "        text-align: right;\n",
       "    }\n",
       "</style>\n",
       "<table border=\"1\" class=\"dataframe\">\n",
       "  <thead>\n",
       "    <tr style=\"text-align: right;\">\n",
       "      <th></th>\n",
       "      <th>Mouse ID</th>\n",
       "      <th>Drug Regimen</th>\n",
       "      <th>Sex</th>\n",
       "      <th>Age_months</th>\n",
       "      <th>Weight (g)</th>\n",
       "      <th>Timepoint</th>\n",
       "      <th>Tumor Volume (mm3)</th>\n",
       "      <th>Metastatic Sites</th>\n",
       "    </tr>\n",
       "  </thead>\n",
       "  <tbody>\n",
       "    <tr>\n",
       "      <th>0</th>\n",
       "      <td>k403</td>\n",
       "      <td>Ramicane</td>\n",
       "      <td>Male</td>\n",
       "      <td>21</td>\n",
       "      <td>16</td>\n",
       "      <td>0</td>\n",
       "      <td>45.000000</td>\n",
       "      <td>0</td>\n",
       "    </tr>\n",
       "    <tr>\n",
       "      <th>1</th>\n",
       "      <td>k403</td>\n",
       "      <td>Ramicane</td>\n",
       "      <td>Male</td>\n",
       "      <td>21</td>\n",
       "      <td>16</td>\n",
       "      <td>5</td>\n",
       "      <td>38.825898</td>\n",
       "      <td>0</td>\n",
       "    </tr>\n",
       "    <tr>\n",
       "      <th>2</th>\n",
       "      <td>k403</td>\n",
       "      <td>Ramicane</td>\n",
       "      <td>Male</td>\n",
       "      <td>21</td>\n",
       "      <td>16</td>\n",
       "      <td>10</td>\n",
       "      <td>35.014271</td>\n",
       "      <td>1</td>\n",
       "    </tr>\n",
       "    <tr>\n",
       "      <th>3</th>\n",
       "      <td>k403</td>\n",
       "      <td>Ramicane</td>\n",
       "      <td>Male</td>\n",
       "      <td>21</td>\n",
       "      <td>16</td>\n",
       "      <td>15</td>\n",
       "      <td>34.223992</td>\n",
       "      <td>1</td>\n",
       "    </tr>\n",
       "    <tr>\n",
       "      <th>4</th>\n",
       "      <td>k403</td>\n",
       "      <td>Ramicane</td>\n",
       "      <td>Male</td>\n",
       "      <td>21</td>\n",
       "      <td>16</td>\n",
       "      <td>20</td>\n",
       "      <td>32.997729</td>\n",
       "      <td>1</td>\n",
       "    </tr>\n",
       "  </tbody>\n",
       "</table>\n",
       "</div>"
      ],
      "text/plain": [
       "  Mouse ID Drug Regimen   Sex  Age_months  Weight (g)  Timepoint  \\\n",
       "0     k403     Ramicane  Male          21          16          0   \n",
       "1     k403     Ramicane  Male          21          16          5   \n",
       "2     k403     Ramicane  Male          21          16         10   \n",
       "3     k403     Ramicane  Male          21          16         15   \n",
       "4     k403     Ramicane  Male          21          16         20   \n",
       "\n",
       "   Tumor Volume (mm3)  Metastatic Sites  \n",
       "0           45.000000                 0  \n",
       "1           38.825898                 0  \n",
       "2           35.014271                 1  \n",
       "3           34.223992                 1  \n",
       "4           32.997729                 1  "
      ]
     },
     "execution_count": 60,
     "metadata": {},
     "output_type": "execute_result"
    }
   ],
   "source": [
    "# Dependencies and Setup\n",
    "import matplotlib.pyplot as plt\n",
    "import pandas as pd\n",
    "import scipy.stats as st\n",
    "import numpy as np\n",
    "from scipy.stats import linregress\n",
    "\n",
    "# Study data files\n",
    "mouse_metadata_path = \"data/Mouse_metadata.csv\"\n",
    "study_results_path = \"data/Study_results.csv\"\n",
    "\n",
    "# Read the mouse data and the study results\n",
    "mouse_metadata = pd.read_csv(mouse_metadata_path)\n",
    "study_results = pd.read_csv(study_results_path)\n",
    "\n",
    "# Combine the data into a single dataset\n",
    "MouseResearch = pd.merge(mouse_metadata, study_results, how=\"outer\", on='Mouse ID')\n",
    "\n",
    "# Display the data table for preview\n",
    "MouseResearch.head(5)"
   ]
  },
  {
   "cell_type": "code",
   "execution_count": 61,
   "metadata": {},
   "outputs": [
    {
     "data": {
      "text/plain": [
       "Index(['Mouse ID', 'Drug Regimen', 'Sex', 'Age_months', 'Weight (g)',\n",
       "       'Timepoint', 'Tumor Volume (mm3)', 'Metastatic Sites'],\n",
       "      dtype='object')"
      ]
     },
     "execution_count": 61,
     "metadata": {},
     "output_type": "execute_result"
    }
   ],
   "source": [
    "# Get a list of all columns for easy reference\n",
    "MouseResearch.columns"
   ]
  },
  {
   "cell_type": "code",
   "execution_count": 62,
   "metadata": {},
   "outputs": [
    {
     "name": "stdout",
     "output_type": "stream",
     "text": [
      "<class 'pandas.core.frame.DataFrame'>\n",
      "Int64Index: 1893 entries, 0 to 1892\n",
      "Data columns (total 8 columns):\n",
      " #   Column              Non-Null Count  Dtype  \n",
      "---  ------              --------------  -----  \n",
      " 0   Mouse ID            1893 non-null   object \n",
      " 1   Drug Regimen        1893 non-null   object \n",
      " 2   Sex                 1893 non-null   object \n",
      " 3   Age_months          1893 non-null   int64  \n",
      " 4   Weight (g)          1893 non-null   int64  \n",
      " 5   Timepoint           1893 non-null   int64  \n",
      " 6   Tumor Volume (mm3)  1893 non-null   float64\n",
      " 7   Metastatic Sites    1893 non-null   int64  \n",
      "dtypes: float64(1), int64(4), object(3)\n",
      "memory usage: 133.1+ KB\n"
     ]
    }
   ],
   "source": [
    "# Assess merged database for correct datatypes\n",
    "MouseResearch.info()"
   ]
  },
  {
   "cell_type": "code",
   "execution_count": 63,
   "metadata": {},
   "outputs": [
    {
     "name": "stdout",
     "output_type": "stream",
     "text": [
      "There are a total number of 249 mice in Pymaceuticals Mouse Research database.\n"
     ]
    }
   ],
   "source": [
    "# Create a data frame to check the number of mice in the data base\n",
    "MouseCount_df = MouseResearch\n",
    "\n",
    "# Count the total number of mice in the database\n",
    "TotalMouseCount = MouseCount_df[\"Mouse ID\"].nunique()\n",
    "\n",
    "# Print the total number of mice in the database\n",
    "print(f\"There are a total number of {TotalMouseCount} mice in Pymaceuticals Mouse Research database.\")\n"
   ]
  },
  {
   "cell_type": "code",
   "execution_count": 64,
   "metadata": {},
   "outputs": [
    {
     "name": "stdout",
     "output_type": "stream",
     "text": [
      "    Mouse ID Drug Regimen     Sex  Age_months  Weight (g)  Timepoint  \\\n",
      "909     g989     Propriva  Female          21          26          0   \n",
      "911     g989     Propriva  Female          21          26          5   \n",
      "913     g989     Propriva  Female          21          26         10   \n",
      "915     g989     Propriva  Female          21          26         15   \n",
      "917     g989     Propriva  Female          21          26         20   \n",
      "\n",
      "     Tumor Volume (mm3)  Metastatic Sites  \n",
      "909           45.000000                 0  \n",
      "911           47.570392                 0  \n",
      "913           49.880528                 0  \n",
      "915           53.442020                 0  \n",
      "917           54.657650                 1  \n"
     ]
    }
   ],
   "source": [
    "# Getting the duplicate mice by ID number that shows up for Mouse ID and Timepoint. \n",
    "DuplicateMouse = MouseCount_df[MouseCount_df.duplicated(subset=[\"Mouse ID\", \"Timepoint\"])]\n",
    "print(DuplicateMouse)\n"
   ]
  },
  {
   "cell_type": "code",
   "execution_count": 65,
   "metadata": {},
   "outputs": [
    {
     "name": "stdout",
     "output_type": "stream",
     "text": [
      "     Mouse ID Drug Regimen   Sex  Age_months  Weight (g)  Timepoint  \\\n",
      "0        k403     Ramicane  Male          21          16          0   \n",
      "1        k403     Ramicane  Male          21          16          5   \n",
      "2        k403     Ramicane  Male          21          16         10   \n",
      "3        k403     Ramicane  Male          21          16         15   \n",
      "4        k403     Ramicane  Male          21          16         20   \n",
      "...       ...          ...   ...         ...         ...        ...   \n",
      "1888     z969     Naftisol  Male           9          30         25   \n",
      "1889     z969     Naftisol  Male           9          30         30   \n",
      "1890     z969     Naftisol  Male           9          30         35   \n",
      "1891     z969     Naftisol  Male           9          30         40   \n",
      "1892     z969     Naftisol  Male           9          30         45   \n",
      "\n",
      "      Tumor Volume (mm3)  Metastatic Sites  \n",
      "0              45.000000                 0  \n",
      "1              38.825898                 0  \n",
      "2              35.014271                 1  \n",
      "3              34.223992                 1  \n",
      "4              32.997729                 1  \n",
      "...                  ...               ...  \n",
      "1888           63.145652                 2  \n",
      "1889           65.841013                 3  \n",
      "1890           69.176246                 4  \n",
      "1891           70.314904                 4  \n",
      "1892           73.867845                 4  \n",
      "\n",
      "[1880 rows x 8 columns]\n"
     ]
    }
   ],
   "source": [
    "# Create a clean DataFrame by dropping the duplicate mouse by its ID.\n",
    "MouseDataClean_df = MouseCount_df[MouseCount_df[\"Mouse ID\"]!=\"g989\"]\n",
    "print(MouseDataClean_df)"
   ]
  },
  {
   "cell_type": "code",
   "execution_count": 66,
   "metadata": {},
   "outputs": [
    {
     "name": "stdout",
     "output_type": "stream",
     "text": [
      "There are a total number of 248 mice in Pymaceuticals Mouse Research database after the data has been cleared of duplicates.\n"
     ]
    }
   ],
   "source": [
    "# Checking the number of mice in the clean data frame\n",
    "NewMouseCount = MouseDataClean_df[\"Mouse ID\"].nunique()\n",
    "\n",
    "# Print the number of mice in the clean data frame\n",
    "print(f\"There are a total number of {NewMouseCount} mice in Pymaceuticals Mouse Research database after the data has been cleared of duplicates.\")\n"
   ]
  },
  {
   "cell_type": "markdown",
   "metadata": {},
   "source": [
    "## Summary Statistics"
   ]
  },
  {
   "cell_type": "code",
   "execution_count": 67,
   "metadata": {},
   "outputs": [
    {
     "data": {
      "text/html": [
       "<div>\n",
       "<style scoped>\n",
       "    .dataframe tbody tr th:only-of-type {\n",
       "        vertical-align: middle;\n",
       "    }\n",
       "\n",
       "    .dataframe tbody tr th {\n",
       "        vertical-align: top;\n",
       "    }\n",
       "\n",
       "    .dataframe thead th {\n",
       "        text-align: right;\n",
       "    }\n",
       "</style>\n",
       "<table border=\"1\" class=\"dataframe\">\n",
       "  <thead>\n",
       "    <tr style=\"text-align: right;\">\n",
       "      <th></th>\n",
       "      <th>Mean</th>\n",
       "      <th>Median</th>\n",
       "      <th>Variance</th>\n",
       "      <th>Std Dev</th>\n",
       "      <th>SEM</th>\n",
       "    </tr>\n",
       "    <tr>\n",
       "      <th>Drug Regimen</th>\n",
       "      <th></th>\n",
       "      <th></th>\n",
       "      <th></th>\n",
       "      <th></th>\n",
       "      <th></th>\n",
       "    </tr>\n",
       "  </thead>\n",
       "  <tbody>\n",
       "    <tr>\n",
       "      <th>Capomulin</th>\n",
       "      <td>40.68</td>\n",
       "      <td>41.56</td>\n",
       "      <td>24.95</td>\n",
       "      <td>4.99</td>\n",
       "      <td>0.33</td>\n",
       "    </tr>\n",
       "    <tr>\n",
       "      <th>Ceftamin</th>\n",
       "      <td>52.59</td>\n",
       "      <td>51.78</td>\n",
       "      <td>39.29</td>\n",
       "      <td>6.27</td>\n",
       "      <td>0.47</td>\n",
       "    </tr>\n",
       "    <tr>\n",
       "      <th>Infubinol</th>\n",
       "      <td>52.88</td>\n",
       "      <td>51.82</td>\n",
       "      <td>43.13</td>\n",
       "      <td>6.57</td>\n",
       "      <td>0.49</td>\n",
       "    </tr>\n",
       "    <tr>\n",
       "      <th>Ketapril</th>\n",
       "      <td>55.24</td>\n",
       "      <td>53.70</td>\n",
       "      <td>68.55</td>\n",
       "      <td>8.28</td>\n",
       "      <td>0.60</td>\n",
       "    </tr>\n",
       "    <tr>\n",
       "      <th>Naftisol</th>\n",
       "      <td>54.33</td>\n",
       "      <td>52.51</td>\n",
       "      <td>66.17</td>\n",
       "      <td>8.13</td>\n",
       "      <td>0.60</td>\n",
       "    </tr>\n",
       "    <tr>\n",
       "      <th>Placebo</th>\n",
       "      <td>54.03</td>\n",
       "      <td>52.29</td>\n",
       "      <td>61.17</td>\n",
       "      <td>7.82</td>\n",
       "      <td>0.58</td>\n",
       "    </tr>\n",
       "    <tr>\n",
       "      <th>Propriva</th>\n",
       "      <td>52.32</td>\n",
       "      <td>50.45</td>\n",
       "      <td>43.85</td>\n",
       "      <td>6.62</td>\n",
       "      <td>0.54</td>\n",
       "    </tr>\n",
       "    <tr>\n",
       "      <th>Ramicane</th>\n",
       "      <td>40.22</td>\n",
       "      <td>40.67</td>\n",
       "      <td>23.49</td>\n",
       "      <td>4.85</td>\n",
       "      <td>0.32</td>\n",
       "    </tr>\n",
       "    <tr>\n",
       "      <th>Stelasyn</th>\n",
       "      <td>54.23</td>\n",
       "      <td>52.43</td>\n",
       "      <td>59.45</td>\n",
       "      <td>7.71</td>\n",
       "      <td>0.57</td>\n",
       "    </tr>\n",
       "    <tr>\n",
       "      <th>Zoniferol</th>\n",
       "      <td>53.24</td>\n",
       "      <td>51.82</td>\n",
       "      <td>48.53</td>\n",
       "      <td>6.97</td>\n",
       "      <td>0.52</td>\n",
       "    </tr>\n",
       "  </tbody>\n",
       "</table>\n",
       "</div>"
      ],
      "text/plain": [
       "               Mean  Median  Variance  Std Dev   SEM\n",
       "Drug Regimen                                        \n",
       "Capomulin     40.68   41.56     24.95     4.99  0.33\n",
       "Ceftamin      52.59   51.78     39.29     6.27  0.47\n",
       "Infubinol     52.88   51.82     43.13     6.57  0.49\n",
       "Ketapril      55.24   53.70     68.55     8.28  0.60\n",
       "Naftisol      54.33   52.51     66.17     8.13  0.60\n",
       "Placebo       54.03   52.29     61.17     7.82  0.58\n",
       "Propriva      52.32   50.45     43.85     6.62  0.54\n",
       "Ramicane      40.22   40.67     23.49     4.85  0.32\n",
       "Stelasyn      54.23   52.43     59.45     7.71  0.57\n",
       "Zoniferol     53.24   51.82     48.53     6.97  0.52"
      ]
     },
     "execution_count": 67,
     "metadata": {},
     "output_type": "execute_result"
    }
   ],
   "source": [
    "# Generate a summary statistics table of mean, median, variance, standard deviation, and SEM of the tumor volume for each regimen\n",
    "\n",
    "# Group the data by drug regimen\n",
    "DrugRegimen_df = MouseDataClean_df.groupby('Drug Regimen')\n",
    "\n",
    "\n",
    "# Calculate the mean for each drug\n",
    "DrugMean = DrugRegimen_df['Tumor Volume (mm3)'].mean()\n",
    "\n",
    "# Calculate the median for each drug\n",
    "DrugMedian = DrugRegimen_df['Tumor Volume (mm3)'].median()\n",
    "\n",
    "# Calculate the median for each drug\n",
    "DrugVariance = DrugRegimen_df['Tumor Volume (mm3)'].var()\n",
    "\n",
    "# Calculate the standard deviation for each drug\n",
    "DrugStDev  = DrugRegimen_df['Tumor Volume (mm3)'].std()\n",
    "\n",
    "# Calculate the Standard Error of Mean (SEM) for each drug\n",
    "DrugSEM = DrugRegimen_df['Tumor Volume (mm3)'].sem()\n",
    "\n",
    "\n",
    "# Summarize data in a data frame and display data frame in a table\n",
    "GroupedDrugSummary_df = pd.DataFrame({'Mean': DrugMean,\n",
    "    \"Median\": DrugMedian, \"Variance\": DrugVariance, \n",
    "    'Std Dev': DrugStDev, 'SEM': DrugSEM,})\n",
    "GroupedDrugSummary_df.round(2)\n"
   ]
  },
  {
   "cell_type": "code",
   "execution_count": 68,
   "metadata": {},
   "outputs": [
    {
     "data": {
      "text/html": [
       "<div>\n",
       "<style scoped>\n",
       "    .dataframe tbody tr th:only-of-type {\n",
       "        vertical-align: middle;\n",
       "    }\n",
       "\n",
       "    .dataframe tbody tr th {\n",
       "        vertical-align: top;\n",
       "    }\n",
       "\n",
       "    .dataframe thead th {\n",
       "        text-align: right;\n",
       "    }\n",
       "</style>\n",
       "<table border=\"1\" class=\"dataframe\">\n",
       "  <thead>\n",
       "    <tr style=\"text-align: right;\">\n",
       "      <th></th>\n",
       "      <th>Tumor_Vol_Mean</th>\n",
       "      <th>Tumor_Vol_Median</th>\n",
       "      <th>Tumor_Vol_Variance</th>\n",
       "      <th>Tumor_Vol_StDev</th>\n",
       "      <th>Tumor_Vol_SEM</th>\n",
       "    </tr>\n",
       "    <tr>\n",
       "      <th>Drug Regimen</th>\n",
       "      <th></th>\n",
       "      <th></th>\n",
       "      <th></th>\n",
       "      <th></th>\n",
       "      <th></th>\n",
       "    </tr>\n",
       "  </thead>\n",
       "  <tbody>\n",
       "    <tr>\n",
       "      <th>Capomulin</th>\n",
       "      <td>40.68</td>\n",
       "      <td>41.56</td>\n",
       "      <td>24.95</td>\n",
       "      <td>4.99</td>\n",
       "      <td>0.33</td>\n",
       "    </tr>\n",
       "    <tr>\n",
       "      <th>Ceftamin</th>\n",
       "      <td>52.59</td>\n",
       "      <td>51.78</td>\n",
       "      <td>39.29</td>\n",
       "      <td>6.27</td>\n",
       "      <td>0.47</td>\n",
       "    </tr>\n",
       "    <tr>\n",
       "      <th>Infubinol</th>\n",
       "      <td>52.88</td>\n",
       "      <td>51.82</td>\n",
       "      <td>43.13</td>\n",
       "      <td>6.57</td>\n",
       "      <td>0.49</td>\n",
       "    </tr>\n",
       "    <tr>\n",
       "      <th>Ketapril</th>\n",
       "      <td>55.24</td>\n",
       "      <td>53.70</td>\n",
       "      <td>68.55</td>\n",
       "      <td>8.28</td>\n",
       "      <td>0.60</td>\n",
       "    </tr>\n",
       "    <tr>\n",
       "      <th>Naftisol</th>\n",
       "      <td>54.33</td>\n",
       "      <td>52.51</td>\n",
       "      <td>66.17</td>\n",
       "      <td>8.13</td>\n",
       "      <td>0.60</td>\n",
       "    </tr>\n",
       "    <tr>\n",
       "      <th>Placebo</th>\n",
       "      <td>54.03</td>\n",
       "      <td>52.29</td>\n",
       "      <td>61.17</td>\n",
       "      <td>7.82</td>\n",
       "      <td>0.58</td>\n",
       "    </tr>\n",
       "    <tr>\n",
       "      <th>Propriva</th>\n",
       "      <td>52.32</td>\n",
       "      <td>50.45</td>\n",
       "      <td>43.85</td>\n",
       "      <td>6.62</td>\n",
       "      <td>0.54</td>\n",
       "    </tr>\n",
       "    <tr>\n",
       "      <th>Ramicane</th>\n",
       "      <td>40.22</td>\n",
       "      <td>40.67</td>\n",
       "      <td>23.49</td>\n",
       "      <td>4.85</td>\n",
       "      <td>0.32</td>\n",
       "    </tr>\n",
       "    <tr>\n",
       "      <th>Stelasyn</th>\n",
       "      <td>54.23</td>\n",
       "      <td>52.43</td>\n",
       "      <td>59.45</td>\n",
       "      <td>7.71</td>\n",
       "      <td>0.57</td>\n",
       "    </tr>\n",
       "    <tr>\n",
       "      <th>Zoniferol</th>\n",
       "      <td>53.24</td>\n",
       "      <td>51.82</td>\n",
       "      <td>48.53</td>\n",
       "      <td>6.97</td>\n",
       "      <td>0.52</td>\n",
       "    </tr>\n",
       "  </tbody>\n",
       "</table>\n",
       "</div>"
      ],
      "text/plain": [
       "              Tumor_Vol_Mean  Tumor_Vol_Median  Tumor_Vol_Variance  \\\n",
       "Drug Regimen                                                         \n",
       "Capomulin              40.68             41.56               24.95   \n",
       "Ceftamin               52.59             51.78               39.29   \n",
       "Infubinol              52.88             51.82               43.13   \n",
       "Ketapril               55.24             53.70               68.55   \n",
       "Naftisol               54.33             52.51               66.17   \n",
       "Placebo                54.03             52.29               61.17   \n",
       "Propriva               52.32             50.45               43.85   \n",
       "Ramicane               40.22             40.67               23.49   \n",
       "Stelasyn               54.23             52.43               59.45   \n",
       "Zoniferol              53.24             51.82               48.53   \n",
       "\n",
       "              Tumor_Vol_StDev  Tumor_Vol_SEM  \n",
       "Drug Regimen                                  \n",
       "Capomulin                4.99           0.33  \n",
       "Ceftamin                 6.27           0.47  \n",
       "Infubinol                6.57           0.49  \n",
       "Ketapril                 8.28           0.60  \n",
       "Naftisol                 8.13           0.60  \n",
       "Placebo                  7.82           0.58  \n",
       "Propriva                 6.62           0.54  \n",
       "Ramicane                 4.85           0.32  \n",
       "Stelasyn                 7.71           0.57  \n",
       "Zoniferol                6.97           0.52  "
      ]
     },
     "execution_count": 68,
     "metadata": {},
     "output_type": "execute_result"
    }
   ],
   "source": [
    "# Generate a summary statistics table of mean, median, variance, standard deviation, and SEM of the tumor volume for each regimen\n",
    "# This method produces everything in a single groupby function\n",
    "SummaryStats = MouseDataClean_df.groupby(\"Drug Regimen\").agg(\n",
    "    Tumor_Vol_Mean=('Tumor Volume (mm3)', np.mean),\n",
    "    Tumor_Vol_Median=('Tumor Volume (mm3)', np.median),\n",
    "    Tumor_Vol_Variance=('Tumor Volume (mm3)', np.var),\n",
    "    Tumor_Vol_StDev=('Tumor Volume (mm3)', np.std),\n",
    "    Tumor_Vol_SEM=('Tumor Volume (mm3)', st.sem)\n",
    ").round(2)\n",
    "\n",
    "SummaryStats\n"
   ]
  },
  {
   "cell_type": "markdown",
   "metadata": {},
   "source": [
    "## Bar and Pie Charts"
   ]
  },
  {
   "cell_type": "markdown",
   "metadata": {},
   "source": [
    "### Pandas Bar Chart"
   ]
  },
  {
   "cell_type": "code",
   "execution_count": 129,
   "metadata": {},
   "outputs": [
    {
     "data": {
      "image/png": "[encoded data removed]",
      "text/plain": [
       "<Figure size 720x432 with 1 Axes>"
      ]
     },
     "metadata": {
      "needs_background": "light"
     },
     "output_type": "display_data"
    }
   ],
   "source": [
    "# Generate a bar plot showing the total number of mice for each treatment throughout the course of the study using pandas. \n",
    "\n",
    "# Group Pandas data by drug regimen and count Mouse ID\n",
    "BarChart = MouseDataClean_df.groupby('Drug Regimen').count()['Mouse ID']\n",
    "\n",
    "# Plot Pandas data in bar chart\n",
    "BarChart.plot.bar(figsize = (10,6), color = 'purple', fontsize = 12)\n",
    "\n",
    "# Format Pandas Bar Chart\n",
    "plt.xlabel(\"Drug Regimen\")\n",
    "plt.ylabel(\"Number of Mice tested\")\n",
    "plt.xticks(rotation=45)\n",
    "plt.title(\"Number of Mice testet per Drug Regimen\", fontsize = 14)\n",
    "\n",
    "# Save Pandas Bar Chart as png\n",
    "plt.savefig(\"Charts_Plots/PandasBarChart.png\")\n",
    "\n",
    "# Display Pandas Bar Chart\n",
    "plt.show()\n"
   ]
  },
  {
   "cell_type": "markdown",
   "metadata": {},
   "source": [
    "### Matplotlip Bar Chart"
   ]
  },
  {
   "cell_type": "code",
   "execution_count": 128,
   "metadata": {},
   "outputs": [
    {
     "data": {
      "image/png": "[encoded data removed]",
      "text/plain": [
       "<Figure size 432x288 with 1 Axes>"
      ]
     },
     "metadata": {
      "needs_background": "light"
     },
     "output_type": "display_data"
    }
   ],
   "source": [
    "# Generate a bar plot showing the total number of mice for each treatment throughout the course of the study using pyplot.\n",
    "\n",
    "# Utilize 'BarChart' data frame from above convert into a list\n",
    "BarChart.tolist()\n",
    "\n",
    "# Set the x_axis for Matplotlip Bar Chart\n",
    "x_axis = np.arange(len(BarChart))\n",
    "x_axis = BarChart.index\n",
    "\n",
    "# Create the Matplotlip Bar Chart\n",
    "plt.bar(x_axis, BarChart, color = 'purple')\n",
    "\n",
    "# Format the Matplotlip Bar Chart\n",
    "plt.xlabel(\"Drug Regimen\")\n",
    "plt.ylabel(\"Number of Mice Tested\")\n",
    "plt.title(\"Number of Mice per Drug Regimen\", fontsize = 14)\n",
    "plt.xticks(rotation=45)\n",
    "\n",
    "# Save Matplotlip Bar Chart as png\n",
    "plt.savefig(\"Charts_Plots/MatplotlipBarChart.png\")\n",
    "\n",
    "# Display Matplotlip Bar Chart\n",
    "plt.show()\n",
    "\n"
   ]
  },
  {
   "cell_type": "markdown",
   "metadata": {},
   "source": [
    "### Pandas Pie Chart"
   ]
  },
  {
   "cell_type": "code",
   "execution_count": 105,
   "metadata": {},
   "outputs": [
    {
     "data": {
      "image/png": "[encoded data removed]",
      "text/plain": [
       "<Figure size 432x288 with 1 Axes>"
      ]
     },
     "metadata": {},
     "output_type": "display_data"
    }
   ],
   "source": [
    "# Generate a pie plot showing the distribution of female versus male mice using pandas\n",
    "\n",
    "# Count male and female mice for Pandas Pie Chart\n",
    "GenderDistribution = MouseDataClean_df['Sex'].value_counts()\n",
    "\n",
    "# Define Pandas Pie Chart Values\n",
    "sizes = GenderDistribution.values \n",
    "labels = GenderDistribution.values\n",
    "\n",
    "# Plot Pandas Pie Chart \n",
    "GenderDistribution.plot(kind=\"pie\", colors = ['blue', 'orange'], explode=(0.1,0), autopct=\"%1.1f%%\", shadow=True, startangle=90)\n",
    "\n",
    "# Format Pandas Pie Chart \n",
    "plt.title(\"Gender Distribution of Mice\")\n",
    "plt.ylabel(\" \")\n",
    "\n",
    "# Save Pandas Pie Chart as png\n",
    "plt.savefig(\"Charts_Plots/PandasPieChart.png\")\n",
    "\n",
    "# Display Pandas Pie Chart\n",
    "plt.show()\n"
   ]
  },
  {
   "cell_type": "markdown",
   "metadata": {},
   "source": [
    "### Matplotlip Pie Chart"
   ]
  },
  {
   "cell_type": "code",
   "execution_count": 107,
   "metadata": {},
   "outputs": [
    {
     "data": {
      "image/png": "[encoded data removed]",
      "text/plain": [
       "<Figure size 288x288 with 1 Axes>"
      ]
     },
     "metadata": {},
     "output_type": "display_data"
    }
   ],
   "source": [
    "# Generate a pie plot showing the distribution of female versus male mice using pyplot\n",
    "\n",
    "# Choose 'Sex' and 'Mouse ID' columns from clean data frame\n",
    "Gernder_Distribition = MouseDataClean_df.loc[:,[\"Sex\", \"Mouse ID\"]]\n",
    "\n",
    "# Group the above columns by Sex\n",
    "Gernder_Distribition = Gernder_Distribition.groupby([\"Sex\"]) \n",
    "\n",
    "# Determine percentage of gender distribution, plot and formate Matplotlip pie chart\n",
    "Gernder_Distribition.count().unstack().plot.pie(figsize=(4,4),autopct=\"%1.1f%%\", labels=['Female','Male'],\n",
    "                                  title=\"Gender Distribution of Mice\", fontsize=14, \n",
    "                                  shadow=True, explode=(0, 0.1), startangle=90, colors =[\"orange\", \"blue\"]).set_ylabel('')\n",
    "\n",
    "\n",
    "# Save Matplotlip Pie Chart as png\n",
    "plt.savefig(\"Charts_Plots/MatplotlipPieChart.png\")\n",
    "\n",
    "# Display Matplotlip Pie Chart\n",
    "plt.show()\n"
   ]
  },
  {
   "cell_type": "markdown",
   "metadata": {},
   "source": [
    "## Quartiles, Outliers and Boxplots"
   ]
  },
  {
   "cell_type": "code",
   "execution_count": 113,
   "metadata": {},
   "outputs": [
    {
     "data": {
      "text/html": [
       "<div>\n",
       "<style scoped>\n",
       "    .dataframe tbody tr th:only-of-type {\n",
       "        vertical-align: middle;\n",
       "    }\n",
       "\n",
       "    .dataframe tbody tr th {\n",
       "        vertical-align: top;\n",
       "    }\n",
       "\n",
       "    .dataframe thead th {\n",
       "        text-align: right;\n",
       "    }\n",
       "</style>\n",
       "<table border=\"1\" class=\"dataframe\">\n",
       "  <thead>\n",
       "    <tr style=\"text-align: right;\">\n",
       "      <th></th>\n",
       "      <th>Mouse ID</th>\n",
       "      <th>Timepoint</th>\n",
       "    </tr>\n",
       "  </thead>\n",
       "  <tbody>\n",
       "    <tr>\n",
       "      <th>0</th>\n",
       "      <td>a203</td>\n",
       "      <td>45</td>\n",
       "    </tr>\n",
       "    <tr>\n",
       "      <th>1</th>\n",
       "      <td>a251</td>\n",
       "      <td>45</td>\n",
       "    </tr>\n",
       "    <tr>\n",
       "      <th>2</th>\n",
       "      <td>a275</td>\n",
       "      <td>45</td>\n",
       "    </tr>\n",
       "    <tr>\n",
       "      <th>3</th>\n",
       "      <td>a411</td>\n",
       "      <td>45</td>\n",
       "    </tr>\n",
       "    <tr>\n",
       "      <th>4</th>\n",
       "      <td>a444</td>\n",
       "      <td>45</td>\n",
       "    </tr>\n",
       "  </tbody>\n",
       "</table>\n",
       "</div>"
      ],
      "text/plain": [
       "  Mouse ID  Timepoint\n",
       "0     a203         45\n",
       "1     a251         45\n",
       "2     a275         45\n",
       "3     a411         45\n",
       "4     a444         45"
      ]
     },
     "execution_count": 113,
     "metadata": {},
     "output_type": "execute_result"
    }
   ],
   "source": [
    "# Calculate the final tumor volume of each mouse across four of the treatment regimens:  \n",
    "# Capomulin, Ramicane, Infubinol, and Ceftamin\n",
    "\n",
    "# Filter Capomulin, Ramicane, Infubinol, and Ceftamin Treatment from Drug Regimens Column\n",
    "TreatmentRegimens = MouseDataClean_df[MouseDataClean_df[\"Drug Regimen\"].isin([\"Capomulin\", \"Ramicane\", \"Infubinol\", \"Ceftamin\"])]\n",
    "\n",
    "# Find the last (greatest) timepoint for each mouse\n",
    "GreatesTimePoint = TreatmentRegimens.groupby(\"Mouse ID\").max()[\"Timepoint\"]\n",
    "\n",
    "# Display last greatest timepoint in table\n",
    "GreatesTimePoint.reset_index().head()\n"
   ]
  },
  {
   "cell_type": "code",
   "execution_count": 114,
   "metadata": {},
   "outputs": [
    {
     "data": {
      "text/html": [
       "<div>\n",
       "<style scoped>\n",
       "    .dataframe tbody tr th:only-of-type {\n",
       "        vertical-align: middle;\n",
       "    }\n",
       "\n",
       "    .dataframe tbody tr th {\n",
       "        vertical-align: top;\n",
       "    }\n",
       "\n",
       "    .dataframe thead th {\n",
       "        text-align: right;\n",
       "    }\n",
       "</style>\n",
       "<table border=\"1\" class=\"dataframe\">\n",
       "  <thead>\n",
       "    <tr style=\"text-align: right;\">\n",
       "      <th></th>\n",
       "      <th>Mouse ID</th>\n",
       "      <th>Timepoint</th>\n",
       "      <th>Drug Regimen</th>\n",
       "      <th>Sex</th>\n",
       "      <th>Age_months</th>\n",
       "      <th>Weight (g)</th>\n",
       "      <th>Tumor Volume (mm3)</th>\n",
       "      <th>Metastatic Sites</th>\n",
       "    </tr>\n",
       "  </thead>\n",
       "  <tbody>\n",
       "    <tr>\n",
       "      <th>0</th>\n",
       "      <td>a203</td>\n",
       "      <td>45</td>\n",
       "      <td>Infubinol</td>\n",
       "      <td>Female</td>\n",
       "      <td>20</td>\n",
       "      <td>23</td>\n",
       "      <td>67.973419</td>\n",
       "      <td>2</td>\n",
       "    </tr>\n",
       "    <tr>\n",
       "      <th>1</th>\n",
       "      <td>a251</td>\n",
       "      <td>45</td>\n",
       "      <td>Infubinol</td>\n",
       "      <td>Female</td>\n",
       "      <td>21</td>\n",
       "      <td>25</td>\n",
       "      <td>65.525743</td>\n",
       "      <td>1</td>\n",
       "    </tr>\n",
       "    <tr>\n",
       "      <th>2</th>\n",
       "      <td>a275</td>\n",
       "      <td>45</td>\n",
       "      <td>Ceftamin</td>\n",
       "      <td>Female</td>\n",
       "      <td>20</td>\n",
       "      <td>28</td>\n",
       "      <td>62.999356</td>\n",
       "      <td>3</td>\n",
       "    </tr>\n",
       "    <tr>\n",
       "      <th>3</th>\n",
       "      <td>a411</td>\n",
       "      <td>45</td>\n",
       "      <td>Ramicane</td>\n",
       "      <td>Male</td>\n",
       "      <td>3</td>\n",
       "      <td>22</td>\n",
       "      <td>38.407618</td>\n",
       "      <td>1</td>\n",
       "    </tr>\n",
       "    <tr>\n",
       "      <th>4</th>\n",
       "      <td>a444</td>\n",
       "      <td>45</td>\n",
       "      <td>Ramicane</td>\n",
       "      <td>Female</td>\n",
       "      <td>10</td>\n",
       "      <td>25</td>\n",
       "      <td>43.047543</td>\n",
       "      <td>0</td>\n",
       "    </tr>\n",
       "  </tbody>\n",
       "</table>\n",
       "</div>"
      ],
      "text/plain": [
       "  Mouse ID  Timepoint Drug Regimen     Sex  Age_months  Weight (g)  \\\n",
       "0     a203         45    Infubinol  Female          20          23   \n",
       "1     a251         45    Infubinol  Female          21          25   \n",
       "2     a275         45     Ceftamin  Female          20          28   \n",
       "3     a411         45     Ramicane    Male           3          22   \n",
       "4     a444         45     Ramicane  Female          10          25   \n",
       "\n",
       "   Tumor Volume (mm3)  Metastatic Sites  \n",
       "0           67.973419                 2  \n",
       "1           65.525743                 1  \n",
       "2           62.999356                 3  \n",
       "3           38.407618                 1  \n",
       "4           43.047543                 0  "
      ]
     },
     "execution_count": 114,
     "metadata": {},
     "output_type": "execute_result"
    }
   ],
   "source": [
    "# Merge this group df with the original dataframe to get the tumor volume at the last timepoint\n",
    "TumorVolume = pd.merge(GreatesTimePoint, MouseDataClean_df, how=\"left\", on=[\"Mouse ID\", \"Timepoint\"])\n",
    "\n",
    "# Display data frame in table\n",
    "TumorVolume.head()"
   ]
  },
  {
   "cell_type": "code",
   "execution_count": 182,
   "metadata": {},
   "outputs": [
    {
     "name": "stdout",
     "output_type": "stream",
     "text": [
      "Capomulin\n",
      "-----------------------------------------------------\n",
      "Interquartile Range (IQR): 8.0.\n",
      "Values below 20.0 are considered outliers.\n",
      "Values above 52.0 are considered outliers.\n",
      "-----------------------------------------------------\n",
      " \n",
      "Ramicane\n",
      "-----------------------------------------------------\n",
      "Interquartile Range (IQR): 9.0.\n",
      "Values below 18.5 are considered outliers.\n",
      "Values above 54.5 are considered outliers.\n",
      "-----------------------------------------------------\n",
      " \n",
      "Infubinol\n",
      "-----------------------------------------------------\n",
      "Interquartile Range (IQR): 12.0.\n",
      "Values below 36.0 are considered outliers.\n",
      "Values above 84.0 are considered outliers.\n",
      "-----------------------------------------------------\n",
      " \n",
      "Ceftamin\n",
      "-----------------------------------------------------\n",
      "Interquartile Range (IQR): 15.0.\n",
      "Values below 26.5 are considered outliers.\n",
      "Values above 86.5 are considered outliers.\n",
      "-----------------------------------------------------\n",
      " \n"
     ]
    }
   ],
   "source": [
    "# Put treatments into a list for for loop (and later for plot labels)\n",
    "TreatmentList = [\"Capomulin\", \"Ramicane\", \"Infubinol\", \"Ceftamin\"]\n",
    "\n",
    "# Create empty list to fill with tumor vol data (for plotting)\n",
    "TumorVolumeData = []\n",
    "\n",
    "# Calculate the IQR and quantitatively determine if there are any potential outliers. \n",
    "\n",
    "# Locate the rows which contain mice on each drug and get the tumor volumes\n",
    "for Drug in TreatmentList:\n",
    "    DrugTumorVolume = TumorVolume[\"Tumor Volume (mm3)\"].loc[TumorVolume[\"Drug Regimen\"] == Drug]\n",
    "    \n",
    "    # add subset \n",
    "    TumorVolumeData.append(DrugTumorVolume)\n",
    "    \n",
    "    # Determine outliers using upper and lower bounds\n",
    "    Quartiles = DrugTumorVolume.quantile([.25,.5,.75])\n",
    "\n",
    "    # Determine lower quartiles\n",
    "    Lowerq = (Quartiles[0.25]).round() \n",
    "\n",
    "    # Determine upper quartiles\n",
    "    Upperq = (Quartiles[0.75]).round()\n",
    "\n",
    "    # Determine Interquartile Range (IQR)\n",
    "    iqr = (Upperq - Lowerq).round()\n",
    "    LowerBound = (Lowerq - (1.5*iqr))\n",
    "    UpperBound = (Upperq + (1.5*iqr))\n",
    "\n",
    "    # Print results\n",
    "    print(f'{Drug}')\n",
    "    print(\"-----------------------------------------------------\")\n",
    "    print(f'Interquartile Range (IQR): {iqr}.')\n",
    "    print(f'Values below {LowerBound} are considered outliers.')\n",
    "    print(f'Values above {UpperBound} are considered outliers.')\n",
    "    print(\"-----------------------------------------------------\\n \")\n",
    "    "
   ]
  },
  {
   "cell_type": "code",
   "execution_count": 159,
   "metadata": {},
   "outputs": [
    {
     "data": {
      "image/png": "[encoded data removed]",
      "text/plain": [
       "<Figure size 432x288 with 1 Axes>"
      ]
     },
     "metadata": {
      "needs_background": "light"
     },
     "output_type": "display_data"
    }
   ],
   "source": [
    "# Generate a box plot of the final tumor volume of each mouse across four regimens of interest\n",
    "\n",
    "# Format the outliers \n",
    "diamond = dict(markerfacecolor='b', marker='D', markersize=10)\n",
    "\n",
    "# Create box plot\n",
    "fig, ax = plt.subplots()\n",
    "\n",
    "# Formate box plot\n",
    "ax.set_title('Final Tumor Volume per Drug Regimen')\n",
    "ax.set_xticklabels(TreatmentList)\n",
    "ax.set_xlabel('Treatment Regimen')\n",
    "ax.set_ylabel('Tumor Volume (mm3)')\n",
    "ax.boxplot(TumorVolumeData, flierprops = diamond)\n",
    "\n",
    "# Save Box Plot Chart as png\n",
    "plt.savefig(\"Charts_Plots/BoxPlotChart.png\")\n",
    "\n",
    "# Display box plot\n",
    "plt.show() "
   ]
  },
  {
   "cell_type": "markdown",
   "metadata": {},
   "source": [
    "## Line and Scatter Plots"
   ]
  },
  {
   "cell_type": "code",
   "execution_count": 134,
   "metadata": {},
   "outputs": [
    {
     "data": {
      "text/html": [
       "<div>\n",
       "<style scoped>\n",
       "    .dataframe tbody tr th:only-of-type {\n",
       "        vertical-align: middle;\n",
       "    }\n",
       "\n",
       "    .dataframe tbody tr th {\n",
       "        vertical-align: top;\n",
       "    }\n",
       "\n",
       "    .dataframe thead th {\n",
       "        text-align: right;\n",
       "    }\n",
       "</style>\n",
       "<table border=\"1\" class=\"dataframe\">\n",
       "  <thead>\n",
       "    <tr style=\"text-align: right;\">\n",
       "      <th></th>\n",
       "      <th>Mouse ID</th>\n",
       "      <th>Drug Regimen</th>\n",
       "      <th>Sex</th>\n",
       "      <th>Age_months</th>\n",
       "      <th>Weight (g)</th>\n",
       "      <th>Timepoint</th>\n",
       "      <th>Tumor Volume (mm3)</th>\n",
       "      <th>Metastatic Sites</th>\n",
       "    </tr>\n",
       "  </thead>\n",
       "  <tbody>\n",
       "    <tr>\n",
       "      <th>10</th>\n",
       "      <td>s185</td>\n",
       "      <td>Capomulin</td>\n",
       "      <td>Female</td>\n",
       "      <td>3</td>\n",
       "      <td>17</td>\n",
       "      <td>0</td>\n",
       "      <td>45.000000</td>\n",
       "      <td>0</td>\n",
       "    </tr>\n",
       "    <tr>\n",
       "      <th>11</th>\n",
       "      <td>s185</td>\n",
       "      <td>Capomulin</td>\n",
       "      <td>Female</td>\n",
       "      <td>3</td>\n",
       "      <td>17</td>\n",
       "      <td>5</td>\n",
       "      <td>43.878496</td>\n",
       "      <td>0</td>\n",
       "    </tr>\n",
       "    <tr>\n",
       "      <th>12</th>\n",
       "      <td>s185</td>\n",
       "      <td>Capomulin</td>\n",
       "      <td>Female</td>\n",
       "      <td>3</td>\n",
       "      <td>17</td>\n",
       "      <td>10</td>\n",
       "      <td>37.614948</td>\n",
       "      <td>0</td>\n",
       "    </tr>\n",
       "    <tr>\n",
       "      <th>13</th>\n",
       "      <td>s185</td>\n",
       "      <td>Capomulin</td>\n",
       "      <td>Female</td>\n",
       "      <td>3</td>\n",
       "      <td>17</td>\n",
       "      <td>15</td>\n",
       "      <td>38.177232</td>\n",
       "      <td>0</td>\n",
       "    </tr>\n",
       "    <tr>\n",
       "      <th>14</th>\n",
       "      <td>s185</td>\n",
       "      <td>Capomulin</td>\n",
       "      <td>Female</td>\n",
       "      <td>3</td>\n",
       "      <td>17</td>\n",
       "      <td>20</td>\n",
       "      <td>36.866876</td>\n",
       "      <td>0</td>\n",
       "    </tr>\n",
       "    <tr>\n",
       "      <th>...</th>\n",
       "      <td>...</td>\n",
       "      <td>...</td>\n",
       "      <td>...</td>\n",
       "      <td>...</td>\n",
       "      <td>...</td>\n",
       "      <td>...</td>\n",
       "      <td>...</td>\n",
       "      <td>...</td>\n",
       "    </tr>\n",
       "    <tr>\n",
       "      <th>440</th>\n",
       "      <td>i557</td>\n",
       "      <td>Capomulin</td>\n",
       "      <td>Female</td>\n",
       "      <td>1</td>\n",
       "      <td>24</td>\n",
       "      <td>45</td>\n",
       "      <td>47.685963</td>\n",
       "      <td>1</td>\n",
       "    </tr>\n",
       "    <tr>\n",
       "      <th>1452</th>\n",
       "      <td>r157</td>\n",
       "      <td>Capomulin</td>\n",
       "      <td>Male</td>\n",
       "      <td>22</td>\n",
       "      <td>25</td>\n",
       "      <td>0</td>\n",
       "      <td>45.000000</td>\n",
       "      <td>0</td>\n",
       "    </tr>\n",
       "    <tr>\n",
       "      <th>1453</th>\n",
       "      <td>r157</td>\n",
       "      <td>Capomulin</td>\n",
       "      <td>Male</td>\n",
       "      <td>22</td>\n",
       "      <td>25</td>\n",
       "      <td>5</td>\n",
       "      <td>45.597064</td>\n",
       "      <td>0</td>\n",
       "    </tr>\n",
       "    <tr>\n",
       "      <th>1454</th>\n",
       "      <td>r157</td>\n",
       "      <td>Capomulin</td>\n",
       "      <td>Male</td>\n",
       "      <td>22</td>\n",
       "      <td>25</td>\n",
       "      <td>10</td>\n",
       "      <td>46.059608</td>\n",
       "      <td>0</td>\n",
       "    </tr>\n",
       "    <tr>\n",
       "      <th>1455</th>\n",
       "      <td>r157</td>\n",
       "      <td>Capomulin</td>\n",
       "      <td>Male</td>\n",
       "      <td>22</td>\n",
       "      <td>25</td>\n",
       "      <td>15</td>\n",
       "      <td>46.539206</td>\n",
       "      <td>0</td>\n",
       "    </tr>\n",
       "  </tbody>\n",
       "</table>\n",
       "<p>230 rows × 8 columns</p>\n",
       "</div>"
      ],
      "text/plain": [
       "     Mouse ID Drug Regimen     Sex  Age_months  Weight (g)  Timepoint  \\\n",
       "10       s185    Capomulin  Female           3          17          0   \n",
       "11       s185    Capomulin  Female           3          17          5   \n",
       "12       s185    Capomulin  Female           3          17         10   \n",
       "13       s185    Capomulin  Female           3          17         15   \n",
       "14       s185    Capomulin  Female           3          17         20   \n",
       "...       ...          ...     ...         ...         ...        ...   \n",
       "440      i557    Capomulin  Female           1          24         45   \n",
       "1452     r157    Capomulin    Male          22          25          0   \n",
       "1453     r157    Capomulin    Male          22          25          5   \n",
       "1454     r157    Capomulin    Male          22          25         10   \n",
       "1455     r157    Capomulin    Male          22          25         15   \n",
       "\n",
       "      Tumor Volume (mm3)  Metastatic Sites  \n",
       "10             45.000000                 0  \n",
       "11             43.878496                 0  \n",
       "12             37.614948                 0  \n",
       "13             38.177232                 0  \n",
       "14             36.866876                 0  \n",
       "...                  ...               ...  \n",
       "440            47.685963                 1  \n",
       "1452           45.000000                 0  \n",
       "1453           45.597064                 0  \n",
       "1454           46.059608                 0  \n",
       "1455           46.539206                 0  \n",
       "\n",
       "[230 rows x 8 columns]"
      ]
     },
     "execution_count": 134,
     "metadata": {},
     "output_type": "execute_result"
    }
   ],
   "source": [
    "# Select a mice that were treated with Capomulin \n",
    "CapomulinTreatmentMice = MouseDataClean_df.loc[MouseDataClean_df[\"Drug Regimen\"] == \"Capomulin\"]\n",
    "\n",
    "# Display data\n",
    "CapomulinTreatmentMice\n"
   ]
  },
  {
   "cell_type": "code",
   "execution_count": 139,
   "metadata": {},
   "outputs": [
    {
     "data": {
      "text/html": [
       "<div>\n",
       "<style scoped>\n",
       "    .dataframe tbody tr th:only-of-type {\n",
       "        vertical-align: middle;\n",
       "    }\n",
       "\n",
       "    .dataframe tbody tr th {\n",
       "        vertical-align: top;\n",
       "    }\n",
       "\n",
       "    .dataframe thead th {\n",
       "        text-align: right;\n",
       "    }\n",
       "</style>\n",
       "<table border=\"1\" class=\"dataframe\">\n",
       "  <thead>\n",
       "    <tr style=\"text-align: right;\">\n",
       "      <th></th>\n",
       "      <th>Mouse ID</th>\n",
       "      <th>Drug Regimen</th>\n",
       "      <th>Sex</th>\n",
       "      <th>Age_months</th>\n",
       "      <th>Weight (g)</th>\n",
       "      <th>Timepoint</th>\n",
       "      <th>Tumor Volume (mm3)</th>\n",
       "      <th>Metastatic Sites</th>\n",
       "    </tr>\n",
       "  </thead>\n",
       "  <tbody>\n",
       "    <tr>\n",
       "      <th>118</th>\n",
       "      <td>y793</td>\n",
       "      <td>Capomulin</td>\n",
       "      <td>Male</td>\n",
       "      <td>17</td>\n",
       "      <td>17</td>\n",
       "      <td>15</td>\n",
       "      <td>42.283665</td>\n",
       "      <td>1</td>\n",
       "    </tr>\n",
       "  </tbody>\n",
       "</table>\n",
       "</div>"
      ],
      "text/plain": [
       "    Mouse ID Drug Regimen   Sex  Age_months  Weight (g)  Timepoint  \\\n",
       "118     y793    Capomulin  Male          17          17         15   \n",
       "\n",
       "     Tumor Volume (mm3)  Metastatic Sites  \n",
       "118           42.283665                 1  "
      ]
     },
     "execution_count": 139,
     "metadata": {},
     "output_type": "execute_result"
    }
   ],
   "source": [
    "# Select randomly using sample() without parameters\n",
    "CapomulinTreatmentMice.sample()"
   ]
  },
  {
   "cell_type": "markdown",
   "metadata": {},
   "source": [
    "### First randomly selected Mouse ID was r944"
   ]
  },
  {
   "cell_type": "markdown",
   "metadata": {},
   "source": [
    "### Line Plot time point vs tumor volume"
   ]
  },
  {
   "cell_type": "code",
   "execution_count": 141,
   "metadata": {},
   "outputs": [
    {
     "data": {
      "text/html": [
       "<div>\n",
       "<style scoped>\n",
       "    .dataframe tbody tr th:only-of-type {\n",
       "        vertical-align: middle;\n",
       "    }\n",
       "\n",
       "    .dataframe tbody tr th {\n",
       "        vertical-align: top;\n",
       "    }\n",
       "\n",
       "    .dataframe thead th {\n",
       "        text-align: right;\n",
       "    }\n",
       "</style>\n",
       "<table border=\"1\" class=\"dataframe\">\n",
       "  <thead>\n",
       "    <tr style=\"text-align: right;\">\n",
       "      <th></th>\n",
       "      <th>Timepoint</th>\n",
       "      <th>Tumor Volume (mm3)</th>\n",
       "    </tr>\n",
       "  </thead>\n",
       "  <tbody>\n",
       "    <tr>\n",
       "      <th>381</th>\n",
       "      <td>0</td>\n",
       "      <td>45.000000</td>\n",
       "    </tr>\n",
       "    <tr>\n",
       "      <th>382</th>\n",
       "      <td>5</td>\n",
       "      <td>45.737145</td>\n",
       "    </tr>\n",
       "    <tr>\n",
       "      <th>383</th>\n",
       "      <td>10</td>\n",
       "      <td>46.544292</td>\n",
       "    </tr>\n",
       "    <tr>\n",
       "      <th>384</th>\n",
       "      <td>15</td>\n",
       "      <td>47.373423</td>\n",
       "    </tr>\n",
       "    <tr>\n",
       "      <th>385</th>\n",
       "      <td>20</td>\n",
       "      <td>43.225671</td>\n",
       "    </tr>\n",
       "    <tr>\n",
       "      <th>386</th>\n",
       "      <td>25</td>\n",
       "      <td>41.086991</td>\n",
       "    </tr>\n",
       "    <tr>\n",
       "      <th>387</th>\n",
       "      <td>30</td>\n",
       "      <td>41.680791</td>\n",
       "    </tr>\n",
       "    <tr>\n",
       "      <th>388</th>\n",
       "      <td>35</td>\n",
       "      <td>40.401765</td>\n",
       "    </tr>\n",
       "    <tr>\n",
       "      <th>389</th>\n",
       "      <td>40</td>\n",
       "      <td>41.042045</td>\n",
       "    </tr>\n",
       "    <tr>\n",
       "      <th>390</th>\n",
       "      <td>45</td>\n",
       "      <td>41.581521</td>\n",
       "    </tr>\n",
       "  </tbody>\n",
       "</table>\n",
       "</div>"
      ],
      "text/plain": [
       "     Timepoint  Tumor Volume (mm3)\n",
       "381          0           45.000000\n",
       "382          5           45.737145\n",
       "383         10           46.544292\n",
       "384         15           47.373423\n",
       "385         20           43.225671\n",
       "386         25           41.086991\n",
       "387         30           41.680791\n",
       "388         35           40.401765\n",
       "389         40           41.042045\n",
       "390         45           41.581521"
      ]
     },
     "execution_count": 141,
     "metadata": {},
     "output_type": "execute_result"
    }
   ],
   "source": [
    "# For Mouse ID 'r944' get time point and tumor volume\n",
    "MouseTP_r944 = MouseDataClean_df[['Timepoint', 'Tumor Volume (mm3)']] \\\n",
    "            .loc[(MouseDataClean_df['Drug Regimen'] == 'Capomulin') & (MouseDataClean_df['Mouse ID']=='r944')]\n",
    "MouseTP_r944"
   ]
  },
  {
   "cell_type": "code",
   "execution_count": 175,
   "metadata": {},
   "outputs": [
    {
     "data": {
      "image/png": "[encoded data removed]",
      "text/plain": [
       "<Figure size 432x288 with 1 Axes>"
      ]
     },
     "metadata": {
      "needs_background": "light"
     },
     "output_type": "display_data"
    }
   ],
   "source": [
    "# Generate a line plot for Mouse ID 'r944'\n",
    "\n",
    "# Create and formate the line plot\n",
    "plt.plot(MouseTP_r944['Timepoint'], MouseTP_r944['Tumor Volume (mm3)'], color=\"g\", marker='o')\n",
    "plt.title(\"Capomulin's Timepoint vs Tumor Volume for Mouse 'r944'\")\n",
    "plt.ylabel(\"Tumor Volume (mm3)\")\n",
    "plt.xlabel(\"Timepoint\")\n",
    "plt.legend(['Tumor Responds to Treatment'])\n",
    "\n",
    "# Save Line Plot Chart as png\n",
    "plt.savefig(\"Charts_Plots/LinePlotChart.png\")\n",
    "\n",
    "# Display line plot\n",
    "plt.show()"
   ]
  },
  {
   "cell_type": "markdown",
   "metadata": {},
   "source": [
    "### Scatter Plot Mouse Weight vs Tumor Volume"
   ]
  },
  {
   "cell_type": "code",
   "execution_count": 176,
   "metadata": {},
   "outputs": [
    {
     "data": {
      "image/png": "[encoded data removed]",
      "text/plain": [
       "<Figure size 432x288 with 1 Axes>"
      ]
     },
     "metadata": {
      "needs_background": "light"
     },
     "output_type": "display_data"
    }
   ],
   "source": [
    "# Generate a scatter plot of average tumor volume vs. mouse weight for the Capomulin regimen\n",
    "Weight = MouseDataClean_df.loc[MouseDataClean_df['Drug Regimen'] == 'Capomulin']\n",
    "AverageVolume = Weight.groupby([\"Mouse ID\"]).mean()\n",
    "\n",
    "# Create and formate scatter plot\n",
    "plt.scatter(AverageVolume[\"Weight (g)\"],AverageVolume[\"Tumor Volume (mm3)\"], color=\"purple\", alpha=0.5,) \n",
    "plt.xlabel(\"Mouse Weight\")\n",
    "plt.ylabel(\"Tumor Volume (mm3)\")\n",
    "plt.title(\"Capomulin's Tumor Volume vs Mouse Weight\")\n",
    "plt.legend(['Mouse ID'])\n",
    "\n",
    "# Save Scatter Plot Chart as png\n",
    "plt.savefig(\"Charts_Plots/ScatterPlotChart.png\")\n",
    "\n",
    "# Display Scatter Plot\n",
    "plt.show()"
   ]
  },
  {
   "cell_type": "markdown",
   "metadata": {},
   "source": [
    "## Correlation and Regression"
   ]
  },
  {
   "cell_type": "code",
   "execution_count": 147,
   "metadata": {},
   "outputs": [
    {
     "name": "stdout",
     "output_type": "stream",
     "text": [
      "The correlation coefficient between Mouse Weight (g) and Average Tumor Volume is 0.84.\n"
     ]
    }
   ],
   "source": [
    "# Calculate the correlation coefficient and linear regression model \n",
    "# for mouse weight and average tumor volume for the Capomulin regimen\n",
    "CorrelationCoefficient = round(st.pearsonr(AverageVolume['Weight (g)'],AverageVolume['Tumor Volume (mm3)'])[0],2)\n",
    "\n",
    "# Print correlation coeffient between mouse weight and average tumor volume\n",
    "print(f\"The correlation coefficient between Mouse Weight (g) and Average Tumor Volume is {round(CorrelationCoefficient,2)}.\")"
   ]
  },
  {
   "cell_type": "code",
   "execution_count": 148,
   "metadata": {},
   "outputs": [
    {
     "data": {
      "text/plain": [
       "LinregressResult(slope=0.9544396890241045, intercept=21.552160532685015, rvalue=0.8419363424694718, pvalue=1.3225722434712642e-07, stderr=0.1275435903320134)"
      ]
     },
     "execution_count": 148,
     "metadata": {},
     "output_type": "execute_result"
    }
   ],
   "source": [
    "# Plot the linear regression model on top of the previous scatter plot.\n",
    "LinearRegession = st.linregress(AverageVolume['Weight (g)'],AverageVolume['Tumor Volume (mm3)'])\n",
    "LinearRegession"
   ]
  },
  {
   "cell_type": "code",
   "execution_count": 149,
   "metadata": {},
   "outputs": [
    {
     "data": {
      "text/plain": [
       "Mouse ID\n",
       "b128    42.549834\n",
       "b742    41.595394\n",
       "f966    37.777635\n",
       "g288    39.686515\n",
       "g316    42.549834\n",
       "Name: Weight (g), dtype: float64"
      ]
     },
     "execution_count": 149,
     "metadata": {},
     "output_type": "execute_result"
    }
   ],
   "source": [
    "# Determine slope value and intercept value\n",
    "Slope = 0.9544396890241045\n",
    "Intercept = 21.552160532685015\n",
    "\n",
    "# Determine regression values\n",
    "RegressValues = AverageVolume['Weight (g)'] * Slope + Intercept\n",
    "RegressValues.head()"
   ]
  },
  {
   "cell_type": "code",
   "execution_count": 151,
   "metadata": {},
   "outputs": [
    {
     "name": "stdout",
     "output_type": "stream",
     "text": [
      "The linear regression equation is y = 0.95x + 21.55\n"
     ]
    }
   ],
   "source": [
    "# Determine linear equation\n",
    "Slope = 0.9544396890241045\n",
    "Intercept = 21.552160532685015\n",
    "LinearEquation = 'y = ' + str(round(Slope,2)) + 'x + ' + str(round(Intercept,2))\n",
    "\n",
    "# Print linear equation\n",
    "print(f'The linear regression equation is {LinearEquation}')"
   ]
  },
  {
   "cell_type": "code",
   "execution_count": 183,
   "metadata": {},
   "outputs": [
    {
     "name": "stderr",
     "output_type": "stream",
     "text": [
      "No handles with labels found to put in legend.\n"
     ]
    },
    {
     "data": {
      "image/png": "[encoded data removed]",
      "text/plain": [
       "<Figure size 432x288 with 1 Axes>"
      ]
     },
     "metadata": {
      "needs_background": "light"
     },
     "output_type": "display_data"
    }
   ],
   "source": [
    "# Create and formate the scatter plot with linear regression\n",
    "plt.scatter(AverageVolume['Weight (g)'],AverageVolume['Tumor Volume (mm3)'], color= \"g\")\n",
    "plt.plot(AverageVolume['Weight (g)'], RegressValues, \"-r\", color='red')\n",
    "plt.annotate(LinearEquation,(20,38), color='red', fontsize=14)\n",
    "plt.xlabel('Weight(g)')\n",
    "plt.ylabel('Tumor Volume (mm3)')\n",
    "plt.title(\"Capomulin Treatment - Mouse Weight vs Tumor Volume\")\n",
    "\n",
    "# Save Scatter Plot with Linear Regression Chart as png\n",
    "plt.savefig(\"Charts_Plots/LinearRegressionPlot.png\")\n",
    "\n",
    "# Display Scatter Plot with Linear Regression\n",
    "plt.show()"
   ]
  }
 ],
 "metadata": {
  "anaconda-cloud": {},
  "kernelspec": {
   "display_name": "Python 3",
   "language": "python",
   "name": "python3"
  },
  "language_info": {
   "codemirror_mode": {
    "name": "ipython",
    "version": 3
   },
   "file_extension": ".py",
   "mimetype": "text/x-python",
   "name": "python",
   "nbconvert_exporter": "python",
   "pygments_lexer": "ipython3",
   "version": "3.6.10"
  }
 },
 "nbformat": 4,
 "nbformat_minor": 2
}
